{
 "cells": [
  {
   "cell_type": "code",
   "execution_count": 3,
   "id": "42990b03",
   "metadata": {},
   "outputs": [],
   "source": [
    "from bs4 import BeautifulSoup\n",
    "import requests"
   ]
  },
  {
   "cell_type": "code",
   "execution_count": 6,
   "id": "1a522929",
   "metadata": {},
   "outputs": [],
   "source": [
    "with open('home.html','r') as htmlfile:\n",
    "    content=htmlfile.read()\n",
    "soup=BeautifulSoup(content,'lxml')\n"
   ]
  },
  {
   "cell_type": "code",
   "execution_count": 10,
   "id": "c8b479eb",
   "metadata": {},
   "outputs": [
    {
     "name": "stdout",
     "output_type": "stream",
     "text": [
      "<!DOCTYPE html>\n",
      "<html>\n",
      " <body>\n",
      "  <h1>\n",
      "   My First Heading\n",
      "  </h1>\n",
      "  <p>\n",
      "   My first paragraph.\n",
      "  </p>\n",
      " </body>\n",
      "</html>\n",
      "\n"
     ]
    }
   ],
   "source": [
    "print(soup.prettify())\n"
   ]
  },
  {
   "cell_type": "code",
   "execution_count": 13,
   "id": "356f589f",
   "metadata": {},
   "outputs": [
    {
     "data": {
      "text/plain": [
       "<h1>My First Heading</h1>"
      ]
     },
     "execution_count": 13,
     "metadata": {},
     "output_type": "execute_result"
    }
   ],
   "source": [
    "tag=soup.find('h1')\n",
    "tag"
   ]
  },
  {
   "cell_type": "code",
   "execution_count": 17,
   "id": "cbda9a9a",
   "metadata": {},
   "outputs": [],
   "source": [
    "tag2=soup.find_all('h1')"
   ]
  },
  {
   "cell_type": "code",
   "execution_count": 18,
   "id": "181d3a40",
   "metadata": {},
   "outputs": [
    {
     "data": {
      "text/plain": [
       "[<h1>My First Heading</h1>]"
      ]
     },
     "execution_count": 18,
     "metadata": {},
     "output_type": "execute_result"
    }
   ],
   "source": [
    "tag2"
   ]
  },
  {
   "cell_type": "code",
   "execution_count": 20,
   "id": "6a848078",
   "metadata": {},
   "outputs": [
    {
     "name": "stdout",
     "output_type": "stream",
     "text": [
      "My first paragraph.\n"
     ]
    }
   ],
   "source": [
    "tag3=soup.find_all('p')\n",
    "for writting in tag3:\n",
    "    print(writting.text)"
   ]
  },
  {
   "cell_type": "code",
   "execution_count": null,
   "id": "1417b713",
   "metadata": {},
   "outputs": [],
   "source": []
  }
 ],
 "metadata": {
  "kernelspec": {
   "display_name": "Python 3",
   "language": "python",
   "name": "python3"
  },
  "language_info": {
   "codemirror_mode": {
    "name": "ipython",
    "version": 3
   },
   "file_extension": ".py",
   "mimetype": "text/x-python",
   "name": "python",
   "nbconvert_exporter": "python",
   "pygments_lexer": "ipython3",
   "version": "3.8.10"
  }
 },
 "nbformat": 4,
 "nbformat_minor": 5
}
